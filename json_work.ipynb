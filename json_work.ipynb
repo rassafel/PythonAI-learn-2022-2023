{
 "cells": [
  {
   "cell_type": "markdown",
   "metadata": {},
   "source": [
    "# Работа с JSON\n",
    "\n",
    "JSON - транспортный формат данных, представляющий из себя набор пар `ключ: значение`"
   ]
  },
  {
   "cell_type": "code",
   "execution_count": 1,
   "metadata": {},
   "outputs": [],
   "source": [
    "import json         # Для работы с JSON нужно импортировать модуль"
   ]
  },
  {
   "cell_type": "code",
   "execution_count": 2,
   "metadata": {},
   "outputs": [
    {
     "name": "stdout",
     "output_type": "stream",
     "text": [
      "{'key': 'value'}\n"
     ]
    }
   ],
   "source": [
    "data = json.loads('{\"key\": \"value\"}')   # В строке находится JSON, с помощью json.loads объект был преобразован к словарю\n",
    "print(data)\n",
    "\n",
    "file = open(\"example.json\", \"r\")\n",
    "\n",
    "data = json.loads(file.read())\n"
   ]
  },
  {
   "cell_type": "markdown",
   "metadata": {},
   "source": [
    "### Чтение из файла"
   ]
  },
  {
   "cell_type": "code",
   "execution_count": 3,
   "metadata": {},
   "outputs": [
    {
     "name": "stdout",
     "output_type": "stream",
     "text": [
      "{'testKey': 'value', 'number': 12, 'values': [1, 2, 3, 'test', {'key': 'tree value'}], 'object': {'key': 'value'}, 'ids': [1, 2, 3, 4, 5]}\n"
     ]
    }
   ],
   "source": [
    "file = open(\"example.json\", \"r\")    # В файле example.json лежит JSON, данный файл открывается на чтение (r - read)\n",
    "\n",
    "data = json.loads(file.read())      # Передаём прочитанную информацию и преобразуем её в словарь\n",
    "print(data)"
   ]
  },
  {
   "cell_type": "code",
   "execution_count": 4,
   "metadata": {},
   "outputs": [
    {
     "name": "stdout",
     "output_type": "stream",
     "text": [
      "testKey \t value \t <class 'str'>\n",
      "number \t 12 \t <class 'int'>\n",
      "values \t [1, 2, 3, 'test', {'key': 'tree value'}] \t <class 'list'>\n",
      "object \t {'key': 'value'} \t <class 'dict'>\n",
      "ids \t [1, 2, 3, 4, 5] \t <class 'list'>\n"
     ]
    }
   ],
   "source": [
    "# Вывод типов элементов словаря\n",
    "for key, value in data.items():\n",
    "    print(key, \"\\t\", value, \"\\t\", type(value))"
   ]
  },
  {
   "cell_type": "markdown",
   "metadata": {},
   "source": [
    "# Практика"
   ]
  },
  {
   "cell_type": "code",
   "execution_count": 5,
   "metadata": {},
   "outputs": [],
   "source": [
    "song_file = open(\"song.json\", \"r\")\n",
    "\n",
    "song_data = json.loads(song_file.read())"
   ]
  },
  {
   "cell_type": "code",
   "execution_count": 6,
   "metadata": {},
   "outputs": [
    {
     "name": "stdout",
     "output_type": "stream",
     "text": [
      "100\n"
     ]
    }
   ],
   "source": [
    "print(song_data[\"resultCount\"])"
   ]
  },
  {
   "cell_type": "code",
   "execution_count": 7,
   "metadata": {},
   "outputs": [
    {
     "name": "stdout",
     "output_type": "stream",
     "text": [
      "['George Strait & Martina McBride', 'Joaquin Phoenix & Reese Witherspoon', 'Johnny Cash', 'Elle King', 'Florence + the Machine', 'Florence + the Machine', 'Jackson 5', 'Lucinda Williams', 'Lucinda Williams', 'Jackson 5', 'Jackson 5', 'Jackson 5', 'Michael Jackson', 'Johnny Cash', 'Carolina Chocolate Drops', 'Michael Jackson', 'Michael Jackson', 'Michael Jackson', 'Michael Jackson', 'Michael Jackson', 'Michael Jackson', 'Michael Jackson', 'Michael Jackson', 'Dave Barnes', 'Michael Jackson', 'Zac Brown Band', 'Michael Jackson', 'Michael Jackson', 'Johnny Cash', 'Michael Jackson', 'Michael Jackson', 'Michael Jackson', 'Michael Jackson', 'Michael Jackson', 'Panic! At the Disco', 'The Jacksons', 'Michael Jackson', 'Outkast', 'Michael Jackson', 'Michael Jackson', 'The Jacksons', 'Michael Jackson', 'Michael Jackson', 'Michael Jackson', 'The Jacksons', 'Michael Jackson', 'Johnny Cash & June Carter', 'Michael Jackson', 'June Carter Cash', 'Michael Jackson', 'Michael Jackson', 'Jeremih', 'Michael Jackson', 'Michael Jackson', 'The Jacksons', 'Lucinda Williams', 'Michael Jackson', 'Michael Jackson', 'Jackson 5', 'Johnny Cash & June Carter Cash', 'Johnny Cash with June Carter Cash', 'Hem', 'Jackson 5', 'Johnny Cash & June Carter Cash', 'Jackson 5', 'Jackson Browne', 'Jackson 5', 'Johnny Cash & June Carter Cash', '50 Cent', 'Sugar & The Hi Lows', 'Merle Haggard & The Strangers', 'Alan Jackson', 'Michael Jackson', 'Jackson Browne', 'Merle Haggard & Theresa Haggard', 'Johnny Cash & June Carter', 'Johnny Cash & June Carter Cash', 'Whitney Houston', 'Alan Jackson', 'Jackson 5', 'Alan Jackson', 'Flatt Lonesome', 'Jackson 5', 'Ronnie Dunn & Carlene Carter', 'Jackson 5', 'Jackson 5', 'Leslie Odom, Jr., Anthony Ramos, Daveed Diggs, Okieriete Onaodowan, Lin-Manuel Miranda, Phillipa Soo, Christopher Jackson & Original Broadway Cast of \"Hamilton\"', 'Jackson 5', '50 Cent', 'Michael Jackson', 'Jackson 5', '50 Cent', 'Hushabye Baby', 'Jackson 5', 'Joe Jackson', '50 Cent', 'Michael Jackson', 'Alan Jackson', 'Jackson 5', 'Leslie Odom, Jr., Daveed Diggs, Christopher Jackson & Original Broadway Cast of \"Hamilton\"']\n"
     ]
    }
   ],
   "source": [
    "artists = []\n",
    "# Собираем массив названий артистов\n",
    "for song in song_data[\"results\"]:\n",
    "    artists.append(song[\"artistName\"])\n",
    "\n",
    "print(artists)"
   ]
  },
  {
   "cell_type": "code",
   "execution_count": 8,
   "metadata": {},
   "outputs": [
    {
     "name": "stdout",
     "output_type": "stream",
     "text": [
      "['George Strait', 'Martina McBride', 'Joaquin Phoenix', 'Reese Witherspoon', 'Johnny Cash', 'Elle King', 'Florence + the Machine', 'Florence + the Machine', 'Jackson 5', 'Lucinda Williams', 'Lucinda Williams', 'Jackson 5', 'Jackson 5', 'Jackson 5', 'Michael Jackson', 'Johnny Cash', 'Carolina Chocolate Drops', 'Michael Jackson', 'Michael Jackson', 'Michael Jackson', 'Michael Jackson', 'Michael Jackson', 'Michael Jackson', 'Michael Jackson', 'Michael Jackson', 'Dave Barnes', 'Michael Jackson', 'Zac Brown Band', 'Michael Jackson', 'Michael Jackson', 'Johnny Cash', 'Michael Jackson', 'Michael Jackson', 'Michael Jackson', 'Michael Jackson', 'Michael Jackson', 'Panic! At the Disco', 'The Jacksons', 'Michael Jackson', 'Outkast', 'Michael Jackson', 'Michael Jackson', 'The Jacksons', 'Michael Jackson', 'Michael Jackson', 'Michael Jackson', 'The Jacksons', 'Michael Jackson', 'Johnny Cash', 'June Carter', 'Michael Jackson', 'June Carter Cash', 'Michael Jackson', 'Michael Jackson', 'Jeremih', 'Michael Jackson', 'Michael Jackson', 'The Jacksons', 'Lucinda Williams', 'Michael Jackson', 'Michael Jackson', 'Jackson 5', 'Johnny Cash', 'June Carter Cash', 'Johnny Cash with June Carter Cash', 'Hem', 'Jackson 5', 'Johnny Cash', 'June Carter Cash', 'Jackson 5', 'Jackson Browne', 'Jackson 5', 'Johnny Cash', 'June Carter Cash', '50 Cent', 'Sugar', 'The Hi Lows', 'Merle Haggard', 'The Strangers', 'Alan Jackson', 'Michael Jackson', 'Jackson Browne', 'Merle Haggard', 'Theresa Haggard', 'Johnny Cash', 'June Carter', 'Johnny Cash', 'June Carter Cash', 'Whitney Houston', 'Alan Jackson', 'Jackson 5', 'Alan Jackson', 'Flatt Lonesome', 'Jackson 5', 'Ronnie Dunn', 'Carlene Carter', 'Jackson 5', 'Jackson 5', 'Leslie Odom, Jr., Anthony Ramos, Daveed Diggs, Okieriete Onaodowan, Lin-Manuel Miranda, Phillipa Soo, Christopher Jackson', 'Original Broadway Cast of \"Hamilton\"', 'Jackson 5', '50 Cent', 'Michael Jackson', 'Jackson 5', '50 Cent', 'Hushabye Baby', 'Jackson 5', 'Joe Jackson', '50 Cent', 'Michael Jackson', 'Alan Jackson', 'Jackson 5', 'Leslie Odom, Jr., Daveed Diggs, Christopher Jackson', 'Original Broadway Cast of \"Hamilton\"']\n"
     ]
    }
   ],
   "source": [
    "tmp_lst = []\n",
    "# Перебираем массив названий артистов\n",
    "for artist in artists:\n",
    "    # Разделяем названия по символу разделителю\n",
    "    split = str(artist).split(\"&\")\n",
    "    # Перебираем всех артистов из полученной строки\n",
    "    for spl in split:\n",
    "        # Добавляем в результирующий список\n",
    "        tmp_lst.append(str(spl).strip())\n",
    "\n",
    "print(tmp_lst)\n",
    "    "
   ]
  },
  {
   "cell_type": "code",
   "execution_count": 9,
   "metadata": {},
   "outputs": [
    {
     "name": "stdout",
     "output_type": "stream",
     "text": [
      "{'Florence + the Machine', 'Carlene Carter', 'Jackson Browne', 'Michael Jackson', 'Carolina Chocolate Drops', 'June Carter', 'Merle Haggard', 'Jeremih', '50 Cent', 'Jackson 5', 'Sugar', 'Leslie Odom, Jr., Daveed Diggs, Christopher Jackson', 'The Hi Lows', 'Joaquin Phoenix', 'Ronnie Dunn', 'Johnny Cash', 'Hushabye Baby', 'Outkast', 'Martina McBride', 'The Jacksons', 'Whitney Houston', 'Leslie Odom, Jr., Anthony Ramos, Daveed Diggs, Okieriete Onaodowan, Lin-Manuel Miranda, Phillipa Soo, Christopher Jackson', 'Original Broadway Cast of \"Hamilton\"', 'Lucinda Williams', 'Hem', 'June Carter Cash', 'Dave Barnes', 'The Strangers', 'Elle King', 'Zac Brown Band', 'Johnny Cash with June Carter Cash', 'Panic! At the Disco', 'Flatt Lonesome', 'George Strait', 'Theresa Haggard', 'Alan Jackson', 'Joe Jackson', 'Reese Witherspoon'}\n"
     ]
    }
   ],
   "source": [
    "# Оставляем уникальные названия артистов\n",
    "# set (множество) - структура данных, позволяющая хранить только уникальные значения\n",
    "tmp_lst = set(tmp_lst)\n",
    "\n",
    "# Перезаписываем список артистов\n",
    "# tmp_lst является множеством, поэтому все его элементы перезаписываем в массив\n",
    "artists = list(tmp_lst)\n",
    "print(tmp_lst)"
   ]
  },
  {
   "cell_type": "code",
   "execution_count": 10,
   "metadata": {},
   "outputs": [
    {
     "name": "stdout",
     "output_type": "stream",
     "text": [
      "{'Martina McBride': 1, 'George Strait': 1, 'Joaquin Phoenix': 1, 'Reese Witherspoon': 1, 'Johnny Cash': 10, 'Elle King': 1, 'Florence + the Machine': 2, 'Jackson 5': 16, 'Lucinda Williams': 3, 'Michael Jackson': 34, 'Carolina Chocolate Drops': 1, 'Dave Barnes': 1, 'Zac Brown Band': 1, 'Panic! At the Disco': 1, 'The Jacksons': 4, 'Outkast': 1, 'June Carter': 8, 'June Carter Cash': 6, 'Jeremih': 1, 'Johnny Cash with June Carter Cash': 1, 'Hem': 1, 'Jackson Browne': 2, '50 Cent': 4, 'Sugar': 1, 'The Hi Lows': 1, 'Merle Haggard': 2, 'The Strangers': 1, 'Alan Jackson': 4, 'Theresa Haggard': 1, 'Whitney Houston': 1, 'Flatt Lonesome': 1, 'Carlene Carter': 1, 'Ronnie Dunn': 1, 'Leslie Odom, Jr., Anthony Ramos, Daveed Diggs, Okieriete Onaodowan, Lin-Manuel Miranda, Phillipa Soo, Christopher Jackson': 1, 'Original Broadway Cast of \"Hamilton\"': 2, 'Hushabye Baby': 1, 'Joe Jackson': 1, 'Leslie Odom, Jr., Daveed Diggs, Christopher Jackson': 1}\n"
     ]
    }
   ],
   "source": [
    "counting = {}\n",
    "\n",
    "# Подсчитаем количество исполненых песен, каждым артистом\n",
    "for song in song_data[\"results\"]:\n",
    "    for artist in artists:\n",
    "        # Если артист есть в списках исполнителей      \n",
    "        if str(artist) in str(song[\"artistName\"]):\n",
    "            # То увеличиваем ему счетчик\n",
    "            counting[artist] = counting.get(artist, 0) + 1\n",
    "\n",
    "print(counting)"
   ]
  }
 ],
 "metadata": {
  "kernelspec": {
   "display_name": "Python 3.10.6 64-bit",
   "language": "python",
   "name": "python3"
  },
  "language_info": {
   "codemirror_mode": {
    "name": "ipython",
    "version": 3
   },
   "file_extension": ".py",
   "mimetype": "text/x-python",
   "name": "python",
   "nbconvert_exporter": "python",
   "pygments_lexer": "ipython3",
   "version": "3.10.6"
  },
  "orig_nbformat": 4,
  "vscode": {
   "interpreter": {
    "hash": "31f2aee4e71d21fbe5cf8b01ff0e069b9275f58929596ceb00d14d90e3e16cd6"
   }
  }
 },
 "nbformat": 4,
 "nbformat_minor": 2
}
