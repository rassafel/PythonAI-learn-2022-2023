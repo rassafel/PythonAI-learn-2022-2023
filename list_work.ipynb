{
 "cells": [
  {
   "cell_type": "markdown",
   "metadata": {},
   "source": [
    "# Работа с массивами\n",
    "\n",
    "Массив (или список) - структура данных, позволяющая хранить элементы. Элементы могут повторяться."
   ]
  },
  {
   "cell_type": "code",
   "execution_count": 1,
   "metadata": {},
   "outputs": [
    {
     "name": "stdout",
     "output_type": "stream",
     "text": [
      "[1, 2, 3]\n",
      "[]\n",
      "[1, 'Alex', 8.5, 20, 2, 'Mila', 7.5, 5, 3, 'Karl', 7.4, 30]\n"
     ]
    }
   ],
   "source": [
    "numbers =  [1, 2, 3]    # Создание массива\n",
    "print(numbers)          # Вывод массива\n",
    "empty = []              # Создание массива\n",
    "print(empty)\n",
    "\n",
    "# Массивы в Python могут содержать объекты разных типов\n",
    "merged = [1, \"Alex\", 8.5, 20, 2, \"Mila\", 7.5, 5, 3, \"Karl\", 7.4, 30]\n",
    "print(merged)"
   ]
  },
  {
   "cell_type": "markdown",
   "metadata": {},
   "source": [
    "### Работа с элементами массива"
   ]
  },
  {
   "cell_type": "code",
   "execution_count": 2,
   "metadata": {},
   "outputs": [
    {
     "name": "stdout",
     "output_type": "stream",
     "text": [
      "True\n",
      "5\n"
     ]
    }
   ],
   "source": [
    "print(merged[0] == 1)   # Индексация в массивах начинается с 0\n",
    "merged[6] = 7.8         # Установка значения 7 элементу массива\n",
    "print(merged[7])        # Получение значения 8 элемента массива"
   ]
  },
  {
   "cell_type": "markdown",
   "metadata": {},
   "source": [
    "### Перебор элементов списка"
   ]
  },
  {
   "cell_type": "code",
   "execution_count": 3,
   "metadata": {},
   "outputs": [
    {
     "name": "stdout",
     "output_type": "stream",
     "text": [
      "Список:\n",
      "1\n",
      "Alex\n",
      "8.5\n",
      "20\n",
      "2\n",
      "Mila\n",
      "7.8\n",
      "5\n",
      "3\n",
      "Karl\n",
      "7.4\n",
      "30\n"
     ]
    }
   ],
   "source": [
    "print(\"Список:\")\n",
    "for element in merged:\n",
    "    print(element)"
   ]
  },
  {
   "cell_type": "markdown",
   "metadata": {},
   "source": [
    "### Перебор элементов списка с индентификаторами"
   ]
  },
  {
   "cell_type": "code",
   "execution_count": 4,
   "metadata": {},
   "outputs": [
    {
     "name": "stdout",
     "output_type": "stream",
     "text": [
      "Список с идентификаторами\n",
      "0 \t 1\n",
      "1 \t Alex\n",
      "2 \t 8.5\n",
      "3 \t 20\n",
      "4 \t 2\n",
      "5 \t Mila\n",
      "6 \t 7.8\n",
      "7 \t 5\n",
      "8 \t 3\n",
      "9 \t Karl\n",
      "10 \t 7.4\n",
      "11 \t 30\n"
     ]
    }
   ],
   "source": [
    "print(\"Список c идентификаторами\")\n",
    "for id, elem in enumerate(merged):\n",
    "    print(id, '\\t', elem)"
   ]
  },
  {
   "cell_type": "markdown",
   "metadata": {},
   "source": [
    "### Получение информации о массиве"
   ]
  },
  {
   "cell_type": "code",
   "execution_count": 6,
   "metadata": {},
   "outputs": [
    {
     "name": "stdout",
     "output_type": "stream",
     "text": [
      "Количество значений 1: 1\n",
      "Количество элементов в массиве: 3\n"
     ]
    }
   ],
   "source": [
    "print(\"Исходный массив:\", numbers)\n",
    "count = numbers.count(1)    # Подсчитать количество значений равных 1 в массиве\n",
    "print(\"Количество значений 1:\", count)\n",
    "\n",
    "length = len(numbers)       # Получить количество элементов в массиве\n",
    "print(\"Количество элементов в массиве:\", length)"
   ]
  },
  {
   "cell_type": "markdown",
   "metadata": {},
   "source": [
    "### Изменение массива"
   ]
  },
  {
   "cell_type": "code",
   "execution_count": 7,
   "metadata": {},
   "outputs": [
    {
     "name": "stdout",
     "output_type": "stream",
     "text": [
      "Исходный массив: [1, 2, 3]\n",
      "Массив после добавления: [1, 2, 3, -100]\n",
      "Массив после удаления: [2, 3, -100]\n",
      "Удаленный элемент: 1\n",
      "Отсортированный массив: [-100, 2, 3]\n",
      "Очищенный массив: []\n"
     ]
    }
   ],
   "source": [
    "print(\"Исходный массив:\", numbers)\n",
    "numbers.append(-100)        # Добавления значения -100 в конец массива\n",
    "print(\"Массив после добавления:\", numbers)\n",
    "\n",
    "item = numbers.pop(0)       # Получение и удаление первого элемента из массива\n",
    "print(\"Массив после удаления:\", numbers)\n",
    "print(\"Удаленный элемент:\", item)\n",
    "\n",
    "numbers.sort()              # Сортировка массива по возрастанию\n",
    "print(\"Отсортированный массив:\", numbers)\n",
    "\n",
    "\n",
    "numbers.clear()             # Очистка массива\n",
    "print(\"Очищенный массив:\", numbers)\n"
   ]
  }
 ],
 "metadata": {
  "kernelspec": {
   "display_name": "Python 3.10.6 64-bit",
   "language": "python",
   "name": "python3"
  },
  "language_info": {
   "codemirror_mode": {
    "name": "ipython",
    "version": 3
   },
   "file_extension": ".py",
   "mimetype": "text/x-python",
   "name": "python",
   "nbconvert_exporter": "python",
   "pygments_lexer": "ipython3",
   "version": "3.10.6"
  },
  "orig_nbformat": 4,
  "vscode": {
   "interpreter": {
    "hash": "916dbcbb3f70747c44a77c7bcd40155683ae19c65e1c03b4aa3499c5328201f1"
   }
  }
 },
 "nbformat": 4,
 "nbformat_minor": 2
}
