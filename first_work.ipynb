{
 "cells": [
  {
   "cell_type": "markdown",
   "metadata": {},
   "source": [
    "# Первое занятие"
   ]
  },
  {
   "cell_type": "markdown",
   "metadata": {},
   "source": [
    "### Создание переменной и вывод на экран"
   ]
  },
  {
   "cell_type": "code",
   "execution_count": 1,
   "metadata": {},
   "outputs": [
    {
     "name": "stdout",
     "output_type": "stream",
     "text": [
      "2\n"
     ]
    }
   ],
   "source": [
    "tmp = 2     # Объявление переменной tmp и присваивание значения 2\n",
    "print(tmp)  # Вывод на экран значения переменной tmp c помощью функции print()"
   ]
  },
  {
   "cell_type": "markdown",
   "metadata": {},
   "source": [
    "### Смена типа переменной"
   ]
  },
  {
   "cell_type": "code",
   "execution_count": 2,
   "metadata": {},
   "outputs": [
    {
     "name": "stdout",
     "output_type": "stream",
     "text": [
      "5 <class 'int'>\n",
      "test # Комментарий  <class 'str'>\n",
      "5.5 <class 'float'>\n"
     ]
    }
   ],
   "source": [
    "# Однострочный комментарий\n",
    "tmp = 5                 # Переменная tmp и присваивание значения 5\n",
    "print(tmp, type(tmp))   # Вывод типа переменной tmp c помощью функции type()\n",
    "\n",
    "\"\"\"\n",
    "Многострочный комментарий\n",
    "\n",
    "Любые комментарии\n",
    "\"\"\"\n",
    "\n",
    "tmp = \"test # Комментарий \"\n",
    "print(tmp, type(tmp))\n",
    "\n",
    "tmp = 5.5\n",
    "print(tmp, type(tmp))"
   ]
  },
  {
   "cell_type": "markdown",
   "metadata": {},
   "source": [
    "### Условный оператор if"
   ]
  },
  {
   "cell_type": "code",
   "execution_count": 3,
   "metadata": {},
   "outputs": [
    {
     "name": "stdout",
     "output_type": "stream",
     "text": [
      "1 остаток равен 1\n"
     ]
    }
   ],
   "source": [
    "i = 1                           # Объявление переменной i и присваивание значения 1\n",
    "if i % 3 == 0:                  # Вызов условного оператора if - если остаток от деления на 3 равен 0, то\n",
    "    print(i, 'остаток равен 0') # Вывод на экран значения переменной i и строки 'остаток равен 0', разделенных пробелом\n",
    "elif i % 3 == 1:                # Если прошлое условие не выполненно, то вызов оператора elif - если остаток от деления на 3 равен 1, то\n",
    "    print(i, 'остаток равен 1') \n",
    "else:                           # Если ни одно из условий не выполненно, то вызов оператора else\n",
    "    print(i, 'остаток равен 2') "
   ]
  },
  {
   "cell_type": "markdown",
   "metadata": {},
   "source": [
    "### Цикл for in"
   ]
  },
  {
   "cell_type": "code",
   "execution_count": 4,
   "metadata": {},
   "outputs": [
    {
     "name": "stdout",
     "output_type": "stream",
     "text": [
      "i =  1\n",
      "i =  2\n",
      "i =  3\n",
      "i =  4\n"
     ]
    }
   ],
   "source": [
    "start = 1                       # Объявление переменной start с начальным значением диапазона цикла\n",
    "end = 5                         # Объявление переменной end с конечным значением диапазона цикла\n",
    "for i in range(start, end):     # Цикл for со счетчиком i в диапазоне [start, end)\n",
    "    print('i = ', i)            # Вывод на экран строки 'i = ' и значения переменной i, разделенных пробелом"
   ]
  },
  {
   "cell_type": "markdown",
   "metadata": {},
   "source": [
    "### Цикл и ветвление"
   ]
  },
  {
   "cell_type": "code",
   "execution_count": 5,
   "metadata": {},
   "outputs": [
    {
     "name": "stdout",
     "output_type": "stream",
     "text": [
      "1 остаток равен 1\n",
      "2 остаток равен 2\n",
      "3 остаток равен 0\n",
      "4 остаток равен 1\n",
      "5 остаток равен 2\n",
      "6 остаток равен 0\n",
      "7 остаток равен 1\n",
      "8 остаток равен 2\n",
      "9 остаток равен 0\n"
     ]
    }
   ],
   "source": [
    "start = 1\n",
    "end = 10\n",
    "for i in range(start, end):\n",
    "    if i % 3 == 0:\n",
    "        print(i, 'остаток равен 0')\n",
    "    elif i % 3 == 1:\n",
    "        print(i, 'остаток равен 1')\n",
    "    else:\n",
    "        print(i, 'остаток равен 2')"
   ]
  }
 ],
 "metadata": {
  "kernelspec": {
   "display_name": "Python 3.10.6 64-bit",
   "language": "python",
   "name": "python3"
  },
  "language_info": {
   "codemirror_mode": {
    "name": "ipython",
    "version": 3
   },
   "file_extension": ".py",
   "mimetype": "text/x-python",
   "name": "python",
   "nbconvert_exporter": "python",
   "pygments_lexer": "ipython3",
   "version": "3.10.6"
  },
  "orig_nbformat": 4,
  "vscode": {
   "interpreter": {
    "hash": "916dbcbb3f70747c44a77c7bcd40155683ae19c65e1c03b4aa3499c5328201f1"
   }
  }
 },
 "nbformat": 4,
 "nbformat_minor": 2
}
