{
 "cells": [
  {
   "cell_type": "markdown",
   "metadata": {},
   "source": [
    "# Работа со словарями\n",
    "\n",
    "Словарь - структура данных позволяющая хранить наборы пар `ключ: значение`"
   ]
  },
  {
   "cell_type": "code",
   "execution_count": 4,
   "metadata": {},
   "outputs": [
    {
     "name": "stdout",
     "output_type": "stream",
     "text": [
      "{'key': 'value', 'number': 10}\n",
      "{}\n"
     ]
    }
   ],
   "source": [
    "data = {\"key\": \"value\", \"number\": 10}   # Создание словаря\n",
    "print(data)                             # Вывод словаря\n",
    "\n",
    "empty = {}                              # Создание пустого словаря\n",
    "print(empty)"
   ]
  },
  {
   "cell_type": "markdown",
   "metadata": {},
   "source": [
    "### Работа с элементами словаря"
   ]
  },
  {
   "cell_type": "code",
   "execution_count": 5,
   "metadata": {},
   "outputs": [
    {
     "name": "stdout",
     "output_type": "stream",
     "text": [
      "Исходный словарь: {'key': 'value', 'number': 10}\n",
      "value\n",
      "None\n",
      "123\n",
      "Словарь после добавления нового элемента: {'key': 'value', 'number': 10, 'unknownKey': 123}\n",
      "Словарь после удаления элемента: {'key': 'value', 'number': 10}\n",
      "Удаленный элемент: 123\n"
     ]
    }
   ],
   "source": [
    "print(\"Исходный словарь:\", data)\n",
    "print(data[\"key\"])                  # Получение элемента словаря по ключу\n",
    "\n",
    "# Если в словаре нету ключа, то будет выброшена ошибка\n",
    "# Метод get не выбрасывает ошибку, но если нет такого ключа, то он вернет None\n",
    "print(data.get(\"unknownKey\"))\n",
    "\n",
    "data[\"unknownKey\"] = 123            # Создание нового ключа\n",
    "print(data.get(\"unknownKey\"))\n",
    "print(\"Словарь после добавления нового элемента:\", data)\n",
    "\n",
    "item = data.pop(\"unknownKey\")       # Получение и удаление ключа\n",
    "print(\"Словарь после удаления элемента:\", data)\n",
    "print(\"Удаленный элемент:\", item)"
   ]
  },
  {
   "cell_type": "markdown",
   "metadata": {},
   "source": [
    "### Перебор элементов словаря"
   ]
  },
  {
   "cell_type": "code",
   "execution_count": 9,
   "metadata": {},
   "outputs": [
    {
     "name": "stdout",
     "output_type": "stream",
     "text": [
      "Перебор пар ключ: значение\n",
      "key \t value\n",
      "number \t 10\n",
      "Перебор ключей\n",
      "key\n",
      "number\n",
      "Перебор значений\n",
      "value\n",
      "10\n"
     ]
    }
   ],
   "source": [
    "print(\"Перебор пар ключ: значение\")\n",
    "for key, value in data.items():\n",
    "    print(key, \"\\t\", value)\n",
    "\n",
    "print(\"Перебор ключей\")\n",
    "for key in data.keys():\n",
    "    print(key)\n",
    "\n",
    "print(\"Перебор значений\")\n",
    "for value in data.values():\n",
    "    print(value)"
   ]
  },
  {
   "cell_type": "markdown",
   "metadata": {},
   "source": [
    "### Получение информации о словаре"
   ]
  },
  {
   "cell_type": "code",
   "execution_count": 10,
   "metadata": {},
   "outputs": [
    {
     "name": "stdout",
     "output_type": "stream",
     "text": [
      "Исходный словарь: {'key': 'value', 'number': 10}\n",
      "Количество элементов в словаре: 2\n"
     ]
    }
   ],
   "source": [
    "print(\"Исходный словарь:\", data)\n",
    "\n",
    "length = len(data)                  # Получить количество элементов в массиве\n",
    "print(\"Количество элементов в словаре:\", length)"
   ]
  },
  {
   "cell_type": "markdown",
   "metadata": {},
   "source": [
    "### Изменение словаря"
   ]
  },
  {
   "cell_type": "code",
   "execution_count": 11,
   "metadata": {},
   "outputs": [
    {
     "name": "stdout",
     "output_type": "stream",
     "text": [
      "Исходный словарь: {'key': 'value', 'number': 10}\n",
      "Очищенный словарь: {}\n"
     ]
    }
   ],
   "source": [
    "print(\"Исходный словарь:\", data)\n",
    "\n",
    "data.clear()                        # Очистка словаря\n",
    "print(\"Очищенный словарь:\", data)\n"
   ]
  }
 ],
 "metadata": {
  "kernelspec": {
   "display_name": "Python 3.10.6 64-bit",
   "language": "python",
   "name": "python3"
  },
  "language_info": {
   "codemirror_mode": {
    "name": "ipython",
    "version": 3
   },
   "file_extension": ".py",
   "mimetype": "text/x-python",
   "name": "python",
   "nbconvert_exporter": "python",
   "pygments_lexer": "ipython3",
   "version": "3.10.6"
  },
  "orig_nbformat": 4,
  "vscode": {
   "interpreter": {
    "hash": "916dbcbb3f70747c44a77c7bcd40155683ae19c65e1c03b4aa3499c5328201f1"
   }
  }
 },
 "nbformat": 4,
 "nbformat_minor": 2
}
