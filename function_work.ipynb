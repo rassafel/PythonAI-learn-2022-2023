{
 "cells": [
  {
   "cell_type": "markdown",
   "metadata": {},
   "source": [
    "# Функциональное программирование"
   ]
  },
  {
   "cell_type": "code",
   "execution_count": 1,
   "metadata": {},
   "outputs": [],
   "source": [
    "import random"
   ]
  },
  {
   "cell_type": "code",
   "execution_count": 2,
   "metadata": {},
   "outputs": [
    {
     "name": "stdout",
     "output_type": "stream",
     "text": [
      "[3, 0, 5, 16, 18, 7, 7, 10, 18, 4]\n"
     ]
    }
   ],
   "source": [
    "numbers = []\n",
    "for i in range(10):\n",
    "    rnd_value = random.randrange(0, 20) # Генерация случайного значения в диапазоне [0, 20)\n",
    "    numbers.append(rnd_value)\n",
    "print(numbers)"
   ]
  },
  {
   "cell_type": "code",
   "execution_count": 3,
   "metadata": {},
   "outputs": [
    {
     "name": "stdout",
     "output_type": "stream",
     "text": [
      "True\n",
      "False\n"
     ]
    }
   ],
   "source": [
    "def is_even(number: int) -> bool:       # Функция проверки числа на четность \n",
    "    return number % 2 == 0\n",
    "\n",
    "print(is_even(2))\n",
    "print(is_even(1))"
   ]
  },
  {
   "cell_type": "code",
   "execution_count": 4,
   "metadata": {},
   "outputs": [
    {
     "name": "stdout",
     "output_type": "stream",
     "text": [
      "[0, 16, 18, 10, 18, 4]\n"
     ]
    }
   ],
   "source": [
    "even_numbers = filter(is_even, numbers) # Фильтрация массива, останутся только четные значения\n",
    "even_numbers = list(even_numbers)       # Функция фильтрации возвращает последовательность, которую Python не знает как отобразить, для этого результат оборачивается в массив    \n",
    "\n",
    "print(even_numbers)"
   ]
  },
  {
   "cell_type": "code",
   "execution_count": 5,
   "metadata": {},
   "outputs": [
    {
     "name": "stdout",
     "output_type": "stream",
     "text": [
      "[3, 5, 7, 7]\n"
     ]
    }
   ],
   "source": [
    "odd_numbers = filter(lambda x: x % 2 != 0, numbers) # Фильтрация массива, используя lambda функцию\n",
    "odd_numbers = list(odd_numbers)\n",
    "\n",
    "print(odd_numbers)"
   ]
  },
  {
   "cell_type": "code",
   "execution_count": 6,
   "metadata": {},
   "outputs": [
    {
     "name": "stdout",
     "output_type": "stream",
     "text": [
      "[9, 0, 15, 48, 54, 21, 21, 30, 54, 12]\n"
     ]
    }
   ],
   "source": [
    "mapped_numbers = map(lambda x: x * 3, numbers)  # Преобразование исходного массива\n",
    "mapped_numbers = list(mapped_numbers)           # Ситуация аналогична с фильтрацией\n",
    "\n",
    "print(mapped_numbers)"
   ]
  },
  {
   "cell_type": "code",
   "execution_count": 7,
   "metadata": {},
   "outputs": [
    {
     "name": "stdout",
     "output_type": "stream",
     "text": [
      "[False, True, False, True, True, False, False, True, True, True]\n"
     ]
    }
   ],
   "source": [
    "is_evens = map(is_even, numbers)\n",
    "is_evens = list(is_evens)\n",
    "\n",
    "print(is_evens)"
   ]
  },
  {
   "cell_type": "code",
   "execution_count": 8,
   "metadata": {},
   "outputs": [
    {
     "name": "stdout",
     "output_type": "stream",
     "text": [
      "[{'value': 3}, {'value': 0}, {'value': 5}, {'value': 16}, {'value': 18}, {'value': 7}, {'value': 7}, {'value': 10}, {'value': 18}, {'value': 4}]\n"
     ]
    }
   ],
   "source": [
    "objects = map(lambda x: {'value': x}, numbers)    # Преобразование массива в массив другого типа\n",
    "objects = list(objects)\n",
    "\n",
    "print(objects)"
   ]
  },
  {
   "cell_type": "code",
   "execution_count": 9,
   "metadata": {},
   "outputs": [
    {
     "name": "stdout",
     "output_type": "stream",
     "text": [
      "Исходный массив: [3, 0, 5, 16, 18, 7, 7, 10, 18, 4]\n",
      "Отсортированный массив: [18, 18, 16, 10, 7, 7, 5, 4, 3, 0]\n"
     ]
    }
   ],
   "source": [
    "print(\"Исходный массив:\", numbers)\n",
    "\n",
    "numbers_sorted = sorted(numbers, reverse=True)  # Сортировка массива, параметр reverse имеет значение по умолчанию False, данный параметр указывает порядок сортировки\n",
    "\n",
    "print(\"Отсортированный массив:\", numbers_sorted)"
   ]
  },
  {
   "cell_type": "code",
   "execution_count": 10,
   "metadata": {},
   "outputs": [
    {
     "name": "stdout",
     "output_type": "stream",
     "text": [
      "Исходный массив: [3, 0, 5, 16, 18, 7, 7, 10, 18, 4]\n",
      "Количество элементов массива: 10\n",
      "Сумма элементов массива: 88\n",
      "Среднее арифметическое: 8.8\n",
      "Медиана: 7.0\n",
      "Мода: 18\n",
      "Максимальный элемент массива: 18\n",
      "Минимальный элемент массива: 0\n"
     ]
    }
   ],
   "source": [
    "from statistics import mean, median, mode\n",
    "\n",
    "print(\"Исходный массив:\", numbers)\n",
    "\n",
    "print(\"Количество элементов массива:\", len(numbers))\n",
    "print(\"Сумма элементов массива:\", sum(numbers))\n",
    "print(\"Среднее арифметическое:\", mean(numbers))\n",
    "print(\"Медиана:\", median(numbers))\n",
    "print(\"Мода:\", mode(numbers))\n",
    "\n",
    "\n",
    "print(\"Максимальный элемент массива:\", max(numbers))\n",
    "print(\"Минимальный элемент массива:\", min(numbers))\n"
   ]
  }
 ],
 "metadata": {
  "kernelspec": {
   "display_name": "Python 3.10.6 64-bit",
   "language": "python",
   "name": "python3"
  },
  "language_info": {
   "codemirror_mode": {
    "name": "ipython",
    "version": 3
   },
   "file_extension": ".py",
   "mimetype": "text/x-python",
   "name": "python",
   "nbconvert_exporter": "python",
   "pygments_lexer": "ipython3",
   "version": "3.10.6"
  },
  "orig_nbformat": 4,
  "vscode": {
   "interpreter": {
    "hash": "916dbcbb3f70747c44a77c7bcd40155683ae19c65e1c03b4aa3499c5328201f1"
   }
  }
 },
 "nbformat": 4,
 "nbformat_minor": 2
}
